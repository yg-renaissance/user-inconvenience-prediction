{
 "cells": [
  {
   "cell_type": "markdown",
   "metadata": {},
   "source": [
    "## 목차\n",
    "### 1. Library Import\n",
    "### 2. 학습데이터 생성\n",
    "### 3. Light-gbm 모델 훈련\n",
    "### 4. 교차 검증 점수 확인\n",
    "### 5. 제출 파일 생성"
   ]
  },
  {
   "cell_type": "code",
   "execution_count": null,
   "metadata": {},
   "outputs": [],
   "source": [
    "#### train_err_data ,train_problem_data , train_quality_data\n",
    "### user_id ,time ,model_nm ,fwver ,errtype ,errcode\n",
    "### "
   ]
  },
  {
   "cell_type": "markdown",
   "metadata": {},
   "source": [
    "# 1. Library Import"
   ]
  },
  {
   "cell_type": "code",
   "execution_count": 1,
   "metadata": {},
   "outputs": [],
   "source": [
    "import pandas as pd\n",
    "import numpy as np\n",
    "import datetime as dt\n",
    "import matplotlib.pyplot as plt\n",
    "from tqdm import tqdm\n",
    "import gc\n",
    "import random\n",
    "import lightgbm as lgb\n",
    "import re\n",
    "from sklearn.metrics import *\n",
    "from sklearn.model_selection import KFold\n",
    "import warnings\n",
    "warnings.filterwarnings(action='ignore')\n",
    "\n",
    "# 필요한 함수 정의\n",
    "def make_datetime(x):\n",
    "    # string 타입의 Time column을 datetime 타입으로 변경\n",
    "    x     = str(x)\n",
    "    year  = int(x[:4])\n",
    "    month = int(x[4:6])\n",
    "    day   = int(x[6:8])\n",
    "    hour  = int(x[8:10])\n",
    "    #mim  = int(x[10:12])\n",
    "    #sec  = int(x[12:])\n",
    "    return dt.datetime(year, month, day, hour)\n",
    "\n",
    "def string2num(x):\n",
    "    # (,)( )과 같은 불필요한 데이터 정제\n",
    "    x = re.sub(r\"[^0-9]+\", '', str(x))\n",
    "    if x =='':\n",
    "        return 0\n",
    "    else:\n",
    "        return int(x)"
   ]
  },
  {
   "cell_type": "code",
   "execution_count": 2,
   "metadata": {},
   "outputs": [],
   "source": [
    "PATH = './data/'"
   ]
  },
  {
   "cell_type": "markdown",
   "metadata": {},
   "source": [
    "# 2. 학습 데이터 생성"
   ]
  },
  {
   "cell_type": "markdown",
   "metadata": {},
   "source": [
    "## 2.1 train_err\n",
    "\n",
    "* train_err_data.csv 파일의 errtype column의 value_counts를 카운트하여 학습에 사용.  \n",
    "* 주어진 기간동안 user_id별로 peroblem가 한 번이라도 발생했는 지를 확인.  "
   ]
  },
  {
   "cell_type": "code",
   "execution_count": 3,
   "metadata": {
    "scrolled": true
   },
   "outputs": [
    {
     "data": {
      "text/html": [
       "<div>\n",
       "<style scoped>\n",
       "    .dataframe tbody tr th:only-of-type {\n",
       "        vertical-align: middle;\n",
       "    }\n",
       "\n",
       "    .dataframe tbody tr th {\n",
       "        vertical-align: top;\n",
       "    }\n",
       "\n",
       "    .dataframe thead th {\n",
       "        text-align: right;\n",
       "    }\n",
       "</style>\n",
       "<table border=\"1\" class=\"dataframe\">\n",
       "  <thead>\n",
       "    <tr style=\"text-align: right;\">\n",
       "      <th></th>\n",
       "      <th>user_id</th>\n",
       "      <th>time</th>\n",
       "      <th>model_nm</th>\n",
       "      <th>fwver</th>\n",
       "      <th>errtype</th>\n",
       "      <th>errcode</th>\n",
       "    </tr>\n",
       "  </thead>\n",
       "  <tbody>\n",
       "    <tr>\n",
       "      <th>0</th>\n",
       "      <td>10000</td>\n",
       "      <td>20201101025616</td>\n",
       "      <td>model_3</td>\n",
       "      <td>05.15.2138</td>\n",
       "      <td>15</td>\n",
       "      <td>1</td>\n",
       "    </tr>\n",
       "    <tr>\n",
       "      <th>1</th>\n",
       "      <td>10000</td>\n",
       "      <td>20201101030309</td>\n",
       "      <td>model_3</td>\n",
       "      <td>05.15.2138</td>\n",
       "      <td>12</td>\n",
       "      <td>1</td>\n",
       "    </tr>\n",
       "    <tr>\n",
       "      <th>2</th>\n",
       "      <td>10000</td>\n",
       "      <td>20201101030309</td>\n",
       "      <td>model_3</td>\n",
       "      <td>05.15.2138</td>\n",
       "      <td>11</td>\n",
       "      <td>1</td>\n",
       "    </tr>\n",
       "    <tr>\n",
       "      <th>3</th>\n",
       "      <td>10000</td>\n",
       "      <td>20201101050514</td>\n",
       "      <td>model_3</td>\n",
       "      <td>05.15.2138</td>\n",
       "      <td>16</td>\n",
       "      <td>1</td>\n",
       "    </tr>\n",
       "    <tr>\n",
       "      <th>4</th>\n",
       "      <td>10000</td>\n",
       "      <td>20201101050515</td>\n",
       "      <td>model_3</td>\n",
       "      <td>05.15.2138</td>\n",
       "      <td>4</td>\n",
       "      <td>0</td>\n",
       "    </tr>\n",
       "  </tbody>\n",
       "</table>\n",
       "</div>"
      ],
      "text/plain": [
       "   user_id            time model_nm       fwver  errtype errcode\n",
       "0    10000  20201101025616  model_3  05.15.2138       15       1\n",
       "1    10000  20201101030309  model_3  05.15.2138       12       1\n",
       "2    10000  20201101030309  model_3  05.15.2138       11       1\n",
       "3    10000  20201101050514  model_3  05.15.2138       16       1\n",
       "4    10000  20201101050515  model_3  05.15.2138        4       0"
      ]
     },
     "metadata": {},
     "output_type": "display_data"
    }
   ],
   "source": [
    "train_err  = pd.read_csv(PATH+'train_err_data.csv')\n",
    "display(train_err.head())"
   ]
  },
  {
   "cell_type": "code",
   "execution_count": 4,
   "metadata": {},
   "outputs": [
    {
     "data": {
      "text/plain": [
       "model_1    5384491\n",
       "model_0    4176279\n",
       "model_2    3473254\n",
       "model_3    1907438\n",
       "model_4    1507802\n",
       "model_8      36064\n",
       "model_7      35356\n",
       "model_5      32233\n",
       "model_6       1746\n",
       "Name: model_nm, dtype: int64"
      ]
     },
     "execution_count": 4,
     "metadata": {},
     "output_type": "execute_result"
    }
   ],
   "source": [
    "train_err['model_nm'].value_counts()"
   ]
  },
  {
   "cell_type": "code",
   "execution_count": 4,
   "metadata": {
    "scrolled": true
   },
   "outputs": [
    {
     "data": {
      "text/html": [
       "<div>\n",
       "<style scoped>\n",
       "    .dataframe tbody tr th:only-of-type {\n",
       "        vertical-align: middle;\n",
       "    }\n",
       "\n",
       "    .dataframe tbody tr th {\n",
       "        vertical-align: top;\n",
       "    }\n",
       "\n",
       "    .dataframe thead th {\n",
       "        text-align: right;\n",
       "    }\n",
       "</style>\n",
       "<table border=\"1\" class=\"dataframe\">\n",
       "  <thead>\n",
       "    <tr style=\"text-align: right;\">\n",
       "      <th></th>\n",
       "      <th>user_id</th>\n",
       "      <th>time</th>\n",
       "      <th>model_nm</th>\n",
       "      <th>fwver</th>\n",
       "      <th>errtype</th>\n",
       "      <th>errcode</th>\n",
       "    </tr>\n",
       "  </thead>\n",
       "  <tbody>\n",
       "    <tr>\n",
       "      <th>0</th>\n",
       "      <td>10000</td>\n",
       "      <td>20201101025616</td>\n",
       "      <td>model_3</td>\n",
       "      <td>05.15.2138</td>\n",
       "      <td>15</td>\n",
       "      <td>1</td>\n",
       "    </tr>\n",
       "    <tr>\n",
       "      <th>1</th>\n",
       "      <td>10000</td>\n",
       "      <td>20201101030309</td>\n",
       "      <td>model_3</td>\n",
       "      <td>05.15.2138</td>\n",
       "      <td>12</td>\n",
       "      <td>1</td>\n",
       "    </tr>\n",
       "    <tr>\n",
       "      <th>2</th>\n",
       "      <td>10000</td>\n",
       "      <td>20201101030309</td>\n",
       "      <td>model_3</td>\n",
       "      <td>05.15.2138</td>\n",
       "      <td>11</td>\n",
       "      <td>1</td>\n",
       "    </tr>\n",
       "    <tr>\n",
       "      <th>3</th>\n",
       "      <td>10000</td>\n",
       "      <td>20201101050514</td>\n",
       "      <td>model_3</td>\n",
       "      <td>05.15.2138</td>\n",
       "      <td>16</td>\n",
       "      <td>1</td>\n",
       "    </tr>\n",
       "    <tr>\n",
       "      <th>4</th>\n",
       "      <td>10000</td>\n",
       "      <td>20201101050515</td>\n",
       "      <td>model_3</td>\n",
       "      <td>05.15.2138</td>\n",
       "      <td>4</td>\n",
       "      <td>0</td>\n",
       "    </tr>\n",
       "  </tbody>\n",
       "</table>\n",
       "</div>"
      ],
      "text/plain": [
       "   user_id            time model_nm       fwver  errtype errcode\n",
       "0    10000  20201101025616  model_3  05.15.2138       15       1\n",
       "1    10000  20201101030309  model_3  05.15.2138       12       1\n",
       "2    10000  20201101030309  model_3  05.15.2138       11       1\n",
       "3    10000  20201101050514  model_3  05.15.2138       16       1\n",
       "4    10000  20201101050515  model_3  05.15.2138        4       0"
      ]
     },
     "metadata": {},
     "output_type": "display_data"
    }
   ],
   "source": [
    "# 데이터 설명을 확인하면\n",
    "# ueser_id가 10000부터 24999까지 총 15000개가 연속적으로 존재.\n",
    "display(train_err.head())\n",
    "train_user_id_max = 24999\n",
    "train_user_id_min = 10000\n",
    "train_user_number = 15000"
   ]
  },
  {
   "cell_type": "code",
   "execution_count": 6,
   "metadata": {},
   "outputs": [
    {
     "name": "stdout",
     "output_type": "stream",
     "text": [
      "[ 1  2  3  4  5  6  7  8  9 10 11 12 13 14 15 16 17 18 19 20 21 22 23 24\n",
      " 25 26 27 28 30 31 32 33 34 35 36 37 38 39 40 41 42]\n"
     ]
    }
   ],
   "source": [
    "print(np.sort(train_err.errtype.unique()))\n",
    "# errtype이 1부터 42까지 29를 제외한 41개가 존재."
   ]
  },
  {
   "cell_type": "code",
   "execution_count": 6,
   "metadata": {},
   "outputs": [
    {
     "data": {
      "text/plain": [
       "array([[10000,    15],\n",
       "       [10000,    12],\n",
       "       [10000,    11],\n",
       "       [10000,    16],\n",
       "       [10000,     4]], dtype=int64)"
      ]
     },
     "execution_count": 6,
     "metadata": {},
     "output_type": "execute_result"
    }
   ],
   "source": [
    "train_err[['user_id','errtype']][:5].values"
   ]
  },
  {
   "cell_type": "code",
   "execution_count": 5,
   "metadata": {},
   "outputs": [
    {
     "name": "stderr",
     "output_type": "stream",
     "text": [
      "100%|██████████████████████████████████████████████████████████████████| 16554663/16554663 [00:48<00:00, 344618.94it/s]\n"
     ]
    },
    {
     "data": {
      "text/plain": [
       "(15000, 42)"
      ]
     },
     "execution_count": 5,
     "metadata": {},
     "output_type": "execute_result"
    }
   ],
   "source": [
    "# user_id와 errtype만을 사용하여 데이터 셋 생성\n",
    "# 모든 일자에 대해서 errtype별 발생 건수를 count\n",
    "# pandas의 groupby를 활용할 경우 큰 연산 자원이 필요.\n",
    "# numpy로 placeholder를 만들어 구현함.\n",
    "id_error = train_err[['user_id','errtype']].values\n",
    "error = np.zeros((train_user_number,42))\n",
    "\n",
    "for person_idx, err in tqdm(id_error):\n",
    "    # person_idx - train_user_id_min 위치에 person_idx, errtype에 해당하는 error값을 +1\n",
    "    error[person_idx - train_user_id_min,err - 1] += 1\n",
    "error.shape"
   ]
  },
  {
   "cell_type": "code",
   "execution_count": 6,
   "metadata": {},
   "outputs": [
    {
     "data": {
      "text/plain": [
       "\"\\ntrain_err             = pd.read_csv(PATH+'train_err_data.csv')\\ntrain_err['datetime'] = train_err['time'].apply(make_datetime)\\n\\nmin_day = train_err.datetime.min().date()\\n\\ntrain_err['days'] = train_err.loc[:,'datetime'].dt.date - min_day\\ntrain_err['days'] = train_err['days'].dt.days\\ndisplay(train_err)\\n\\nid_error = train_err[['user_id','errtype','days']].values\\nerror = np.zeros((train_user_number,42, 33))\\nfor idx, err, days in tqdm(id_error):\\n    error[idx - train_user_id_min,err - 1, days] += 1\\nerror.shape\\n\""
      ]
     },
     "execution_count": 6,
     "metadata": {},
     "output_type": "execute_result"
    }
   ],
   "source": [
    "#참고) 일별 합산 데이터 생성 코드      \n",
    "'''\n",
    "train_err             = pd.read_csv(PATH+'train_err_data.csv')\n",
    "train_err['datetime'] = train_err['time'].apply(make_datetime)\n",
    "\n",
    "min_day = train_err.datetime.min().date()\n",
    "\n",
    "train_err['days'] = train_err.loc[:,'datetime'].dt.date - min_day\n",
    "train_err['days'] = train_err['days'].dt.days\n",
    "display(train_err)\n",
    "\n",
    "id_error = train_err[['user_id','errtype','days']].values\n",
    "error = np.zeros((train_user_number,42, 33))\n",
    "for idx, err, days in tqdm(id_error):\n",
    "    error[idx - train_user_id_min,err - 1, days] += 1\n",
    "error.shape\n",
    "'''"
   ]
  },
  {
   "cell_type": "markdown",
   "metadata": {},
   "source": [
    "## 2.2 problem"
   ]
  },
  {
   "cell_type": "code",
   "execution_count": 6,
   "metadata": {},
   "outputs": [],
   "source": [
    "train_prob = pd.read_csv(PATH+'train_problem_data.csv')"
   ]
  },
  {
   "cell_type": "code",
   "execution_count": 7,
   "metadata": {},
   "outputs": [
    {
     "data": {
      "text/plain": [
       "(15000,)"
      ]
     },
     "execution_count": 7,
     "metadata": {},
     "output_type": "execute_result"
    }
   ],
   "source": [
    "problem = np.zeros(15000)\n",
    "# error와 동일한 방법으로 person_idx - 10000 위치에 \n",
    "# person_idx의 problem이 한 번이라도 발생했다면 1\n",
    "# 없다면 0\n",
    "problem[train_prob.user_id.unique()-10000] = 1 \n",
    "problem.shape"
   ]
  },
  {
   "cell_type": "markdown",
   "metadata": {},
   "source": [
    "### 2.5? simple dnn training "
   ]
  },
  {
   "cell_type": "code",
   "execution_count": 13,
   "metadata": {},
   "outputs": [
    {
     "data": {
      "text/plain": [
       "((15000, 42), (15000,))"
      ]
     },
     "execution_count": 13,
     "metadata": {},
     "output_type": "execute_result"
    }
   ],
   "source": [
    "train_x.shape , train_y.shape"
   ]
  },
  {
   "cell_type": "code",
   "execution_count": 18,
   "metadata": {},
   "outputs": [],
   "source": [
    "train_y = train_y.reshape(-1,1)"
   ]
  },
  {
   "cell_type": "code",
   "execution_count": 26,
   "metadata": {},
   "outputs": [],
   "source": [
    "# train data 와 test data로 구분(7:3 비율) X,y : DataFrame\n",
    "from sklearn.model_selection import train_test_split\n",
    "xtr,xte,ytr,yte = train_test_split(train_x, train_y, test_size=0.2, random_state=10) "
   ]
  },
  {
   "cell_type": "code",
   "execution_count": 28,
   "metadata": {},
   "outputs": [
    {
     "data": {
      "text/plain": [
       "((12000, 42), (12000, 1))"
      ]
     },
     "execution_count": 28,
     "metadata": {},
     "output_type": "execute_result"
    }
   ],
   "source": [
    "xtr.shape , ytr.shape"
   ]
  },
  {
   "cell_type": "code",
   "execution_count": 32,
   "metadata": {
    "collapsed": true,
    "jupyter": {
     "outputs_hidden": true
    }
   },
   "outputs": [
    {
     "name": "stdout",
     "output_type": "stream",
     "text": [
      "Epoch 1/1500\n",
      "48/48 [==============================] - 0s 5ms/step - loss: 3.8777 - accuracy: 0.5525 - val_loss: 1.6157 - val_accuracy: 0.5987\n",
      "Epoch 2/1500\n",
      "48/48 [==============================] - 0s 4ms/step - loss: 1.2863 - accuracy: 0.6229 - val_loss: 0.9544 - val_accuracy: 0.6317\n",
      "Epoch 3/1500\n",
      "48/48 [==============================] - 0s 3ms/step - loss: 0.9234 - accuracy: 0.6536 - val_loss: 1.3298 - val_accuracy: 0.6587\n",
      "Epoch 4/1500\n",
      "48/48 [==============================] - 0s 4ms/step - loss: 1.0399 - accuracy: 0.6626 - val_loss: 0.8062 - val_accuracy: 0.6529\n",
      "Epoch 5/1500\n",
      "48/48 [==============================] - 0s 3ms/step - loss: 0.8561 - accuracy: 0.6755 - val_loss: 0.9257 - val_accuracy: 0.6575\n",
      "Epoch 6/1500\n",
      "48/48 [==============================] - 0s 3ms/step - loss: 0.7701 - accuracy: 0.6810 - val_loss: 0.8304 - val_accuracy: 0.6600\n",
      "Epoch 7/1500\n",
      "48/48 [==============================] - 0s 3ms/step - loss: 0.7534 - accuracy: 0.6746 - val_loss: 0.7995 - val_accuracy: 0.6646\n",
      "Epoch 8/1500\n",
      "48/48 [==============================] - 0s 4ms/step - loss: 0.7063 - accuracy: 0.6883 - val_loss: 0.7989 - val_accuracy: 0.6650\n",
      "Epoch 9/1500\n",
      "48/48 [==============================] - 0s 4ms/step - loss: 0.8563 - accuracy: 0.6841 - val_loss: 1.0002 - val_accuracy: 0.6621\n",
      "Epoch 10/1500\n",
      "48/48 [==============================] - 0s 4ms/step - loss: 0.8312 - accuracy: 0.6845 - val_loss: 0.8143 - val_accuracy: 0.6558\n",
      "Epoch 11/1500\n",
      "48/48 [==============================] - 0s 4ms/step - loss: 0.7182 - accuracy: 0.6908 - val_loss: 0.6936 - val_accuracy: 0.6742\n",
      "Epoch 12/1500\n",
      "48/48 [==============================] - 0s 4ms/step - loss: 0.6709 - accuracy: 0.6927 - val_loss: 0.8089 - val_accuracy: 0.6783\n",
      "Epoch 13/1500\n",
      "48/48 [==============================] - 0s 3ms/step - loss: 0.6855 - accuracy: 0.6997 - val_loss: 0.6954 - val_accuracy: 0.6758\n",
      "Epoch 14/1500\n",
      "48/48 [==============================] - 0s 4ms/step - loss: 0.6687 - accuracy: 0.7057 - val_loss: 0.6931 - val_accuracy: 0.6817\n",
      "Epoch 15/1500\n",
      "48/48 [==============================] - 0s 3ms/step - loss: 0.6542 - accuracy: 0.7045 - val_loss: 0.6559 - val_accuracy: 0.6875\n",
      "Epoch 16/1500\n",
      "48/48 [==============================] - 0s 3ms/step - loss: 0.6456 - accuracy: 0.7044 - val_loss: 1.0743 - val_accuracy: 0.6729\n",
      "Epoch 17/1500\n",
      "48/48 [==============================] - 0s 4ms/step - loss: 0.7545 - accuracy: 0.7030 - val_loss: 0.7427 - val_accuracy: 0.6754\n",
      "Epoch 18/1500\n",
      "48/48 [==============================] - 0s 4ms/step - loss: 0.7170 - accuracy: 0.7055 - val_loss: 0.6508 - val_accuracy: 0.6858\n",
      "Epoch 19/1500\n",
      "48/48 [==============================] - 0s 3ms/step - loss: 0.6504 - accuracy: 0.7109 - val_loss: 0.6533 - val_accuracy: 0.6833\n",
      "Epoch 20/1500\n",
      "48/48 [==============================] - 0s 3ms/step - loss: 0.6580 - accuracy: 0.7121 - val_loss: 0.7087 - val_accuracy: 0.6775\n",
      "Epoch 21/1500\n",
      "48/48 [==============================] - 0s 4ms/step - loss: 0.6419 - accuracy: 0.7173 - val_loss: 0.6497 - val_accuracy: 0.6833\n",
      "Epoch 22/1500\n",
      "48/48 [==============================] - 0s 3ms/step - loss: 0.5939 - accuracy: 0.7175 - val_loss: 0.6537 - val_accuracy: 0.6925\n",
      "Epoch 23/1500\n",
      "48/48 [==============================] - 0s 4ms/step - loss: 0.6572 - accuracy: 0.7176 - val_loss: 0.6860 - val_accuracy: 0.6829\n",
      "Epoch 24/1500\n",
      "48/48 [==============================] - 0s 3ms/step - loss: 0.6318 - accuracy: 0.7228 - val_loss: 0.7428 - val_accuracy: 0.6867\n",
      "Epoch 25/1500\n",
      "48/48 [==============================] - 0s 3ms/step - loss: 0.6951 - accuracy: 0.7123 - val_loss: 0.8616 - val_accuracy: 0.6846\n",
      "Epoch 26/1500\n",
      "48/48 [==============================] - 0s 4ms/step - loss: 0.7395 - accuracy: 0.7054 - val_loss: 0.6605 - val_accuracy: 0.6817\n",
      "Epoch 27/1500\n",
      "48/48 [==============================] - 0s 3ms/step - loss: 0.6662 - accuracy: 0.7159 - val_loss: 0.7404 - val_accuracy: 0.6792\n",
      "Epoch 28/1500\n",
      "48/48 [==============================] - 0s 3ms/step - loss: 0.7062 - accuracy: 0.7139 - val_loss: 0.6545 - val_accuracy: 0.6921\n",
      "Epoch 29/1500\n",
      "48/48 [==============================] - 0s 3ms/step - loss: 0.5986 - accuracy: 0.7294 - val_loss: 0.6714 - val_accuracy: 0.6900\n",
      "Epoch 30/1500\n",
      "48/48 [==============================] - 0s 3ms/step - loss: 0.6227 - accuracy: 0.7346 - val_loss: 0.6408 - val_accuracy: 0.6942\n",
      "Epoch 31/1500\n",
      "48/48 [==============================] - 0s 3ms/step - loss: 0.6268 - accuracy: 0.7259 - val_loss: 0.6181 - val_accuracy: 0.6946\n",
      "Epoch 32/1500\n",
      "48/48 [==============================] - 0s 4ms/step - loss: 0.6011 - accuracy: 0.7372 - val_loss: 0.5926 - val_accuracy: 0.7029\n",
      "Epoch 33/1500\n",
      "48/48 [==============================] - 0s 3ms/step - loss: 0.6216 - accuracy: 0.7356 - val_loss: 0.8240 - val_accuracy: 0.6825\n",
      "Epoch 34/1500\n",
      "48/48 [==============================] - 0s 4ms/step - loss: 0.6361 - accuracy: 0.7335 - val_loss: 0.6443 - val_accuracy: 0.7033\n",
      "Epoch 35/1500\n",
      "48/48 [==============================] - 0s 5ms/step - loss: 0.5758 - accuracy: 0.7389 - val_loss: 0.7130 - val_accuracy: 0.6963\n",
      "Epoch 36/1500\n",
      "48/48 [==============================] - 0s 5ms/step - loss: 0.5553 - accuracy: 0.7449 - val_loss: 0.6116 - val_accuracy: 0.6958\n",
      "Epoch 37/1500\n",
      "48/48 [==============================] - 0s 3ms/step - loss: 0.6417 - accuracy: 0.7352 - val_loss: 0.7599 - val_accuracy: 0.7050\n",
      "Epoch 38/1500\n",
      "48/48 [==============================] - 0s 6ms/step - loss: 0.6795 - accuracy: 0.7333 - val_loss: 0.7181 - val_accuracy: 0.7038\n",
      "Epoch 39/1500\n",
      "48/48 [==============================] - 0s 4ms/step - loss: 0.6563 - accuracy: 0.7302 - val_loss: 0.7511 - val_accuracy: 0.7100\n",
      "Epoch 40/1500\n",
      "48/48 [==============================] - 0s 4ms/step - loss: 0.6303 - accuracy: 0.7389 - val_loss: 0.6351 - val_accuracy: 0.6950\n",
      "Epoch 41/1500\n",
      "48/48 [==============================] - 0s 5ms/step - loss: 0.5558 - accuracy: 0.7433 - val_loss: 0.6086 - val_accuracy: 0.7121\n",
      "Epoch 42/1500\n",
      "48/48 [==============================] - 0s 4ms/step - loss: 0.5470 - accuracy: 0.7466 - val_loss: 0.6031 - val_accuracy: 0.7008\n",
      "Epoch 43/1500\n",
      "48/48 [==============================] - 0s 4ms/step - loss: 0.5355 - accuracy: 0.7498 - val_loss: 0.5893 - val_accuracy: 0.7088\n",
      "Epoch 44/1500\n",
      "48/48 [==============================] - 0s 7ms/step - loss: 0.5322 - accuracy: 0.7518 - val_loss: 0.5839 - val_accuracy: 0.7121\n",
      "Epoch 45/1500\n",
      "48/48 [==============================] - 0s 4ms/step - loss: 0.5182 - accuracy: 0.7527 - val_loss: 0.5790 - val_accuracy: 0.7163\n",
      "Epoch 46/1500\n",
      "48/48 [==============================] - 0s 3ms/step - loss: 0.5218 - accuracy: 0.7538 - val_loss: 0.5840 - val_accuracy: 0.7121\n",
      "Epoch 47/1500\n",
      "48/48 [==============================] - 0s 4ms/step - loss: 0.5238 - accuracy: 0.7568 - val_loss: 0.6666 - val_accuracy: 0.7113\n",
      "Epoch 48/1500\n",
      "48/48 [==============================] - 0s 3ms/step - loss: 0.5298 - accuracy: 0.7568 - val_loss: 0.5861 - val_accuracy: 0.7154\n",
      "Epoch 49/1500\n",
      "48/48 [==============================] - 0s 3ms/step - loss: 0.5308 - accuracy: 0.7597 - val_loss: 0.6014 - val_accuracy: 0.7212\n",
      "Epoch 50/1500\n",
      "48/48 [==============================] - 0s 3ms/step - loss: 0.5171 - accuracy: 0.7601 - val_loss: 0.5967 - val_accuracy: 0.7146\n",
      "Epoch 51/1500\n",
      "48/48 [==============================] - ETA: 0s - loss: 0.5277 - accuracy: 0.76 - 0s 3ms/step - loss: 0.5284 - accuracy: 0.7593 - val_loss: 0.5792 - val_accuracy: 0.7225\n",
      "Epoch 52/1500\n",
      "48/48 [==============================] - 0s 3ms/step - loss: 0.5200 - accuracy: 0.7656 - val_loss: 0.6182 - val_accuracy: 0.7175\n",
      "Epoch 53/1500\n",
      "48/48 [==============================] - 0s 4ms/step - loss: 0.5286 - accuracy: 0.7604 - val_loss: 0.5851 - val_accuracy: 0.7154\n",
      "Epoch 54/1500\n",
      "48/48 [==============================] - 0s 3ms/step - loss: 0.5066 - accuracy: 0.7648 - val_loss: 0.6004 - val_accuracy: 0.7117\n",
      "Epoch 55/1500\n",
      "48/48 [==============================] - 0s 5ms/step - loss: 0.5393 - accuracy: 0.7627 - val_loss: 0.5765 - val_accuracy: 0.7237\n",
      "Epoch 56/1500\n",
      "48/48 [==============================] - 0s 5ms/step - loss: 0.5190 - accuracy: 0.7660 - val_loss: 0.6242 - val_accuracy: 0.7158\n",
      "Epoch 57/1500\n",
      "48/48 [==============================] - 0s 6ms/step - loss: 0.5276 - accuracy: 0.7640 - val_loss: 0.6078 - val_accuracy: 0.7225\n",
      "Epoch 58/1500\n",
      "48/48 [==============================] - 0s 7ms/step - loss: 0.5034 - accuracy: 0.7674 - val_loss: 0.5958 - val_accuracy: 0.7200\n",
      "Epoch 59/1500\n",
      "48/48 [==============================] - 0s 4ms/step - loss: 0.5260 - accuracy: 0.7661 - val_loss: 0.6572 - val_accuracy: 0.7021\n",
      "Epoch 60/1500\n",
      "48/48 [==============================] - 0s 4ms/step - loss: 0.5747 - accuracy: 0.7664 - val_loss: 0.6063 - val_accuracy: 0.7212\n",
      "Epoch 61/1500\n",
      "48/48 [==============================] - 0s 5ms/step - loss: 0.5264 - accuracy: 0.7697 - val_loss: 0.5830 - val_accuracy: 0.7233\n",
      "Epoch 62/1500\n",
      "48/48 [==============================] - 0s 3ms/step - loss: 0.5072 - accuracy: 0.7705 - val_loss: 0.5899 - val_accuracy: 0.7212\n",
      "Epoch 63/1500\n",
      "48/48 [==============================] - 0s 4ms/step - loss: 0.5142 - accuracy: 0.7689 - val_loss: 0.6004 - val_accuracy: 0.7287\n",
      "Epoch 64/1500\n",
      "48/48 [==============================] - 0s 7ms/step - loss: 0.5069 - accuracy: 0.7676 - val_loss: 0.5652 - val_accuracy: 0.7275\n",
      "Epoch 65/1500\n",
      "48/48 [==============================] - 0s 3ms/step - loss: 0.5272 - accuracy: 0.7717 - val_loss: 0.6154 - val_accuracy: 0.7154\n",
      "Epoch 66/1500\n",
      "48/48 [==============================] - 0s 4ms/step - loss: 0.5498 - accuracy: 0.7626 - val_loss: 0.5707 - val_accuracy: 0.7262\n",
      "Epoch 67/1500\n",
      "48/48 [==============================] - 0s 3ms/step - loss: 0.5182 - accuracy: 0.7713 - val_loss: 0.5814 - val_accuracy: 0.7246\n",
      "Epoch 68/1500\n",
      "48/48 [==============================] - 0s 3ms/step - loss: 0.4955 - accuracy: 0.7755 - val_loss: 0.5844 - val_accuracy: 0.7258\n",
      "Epoch 69/1500\n",
      "48/48 [==============================] - 0s 4ms/step - loss: 0.5214 - accuracy: 0.7724 - val_loss: 0.5891 - val_accuracy: 0.7158\n",
      "Epoch 70/1500\n",
      "48/48 [==============================] - 0s 3ms/step - loss: 0.5492 - accuracy: 0.7685 - val_loss: 0.5751 - val_accuracy: 0.7246\n",
      "Epoch 71/1500\n",
      "48/48 [==============================] - 0s 4ms/step - loss: 0.5111 - accuracy: 0.7721 - val_loss: 0.5790 - val_accuracy: 0.7262\n",
      "Epoch 72/1500\n",
      "48/48 [==============================] - 0s 5ms/step - loss: 0.5015 - accuracy: 0.7732 - val_loss: 0.6177 - val_accuracy: 0.7242\n",
      "Epoch 73/1500\n",
      "48/48 [==============================] - 0s 3ms/step - loss: 0.4971 - accuracy: 0.7738 - val_loss: 0.5827 - val_accuracy: 0.7300\n",
      "Epoch 74/1500\n",
      "48/48 [==============================] - 0s 4ms/step - loss: 0.4856 - accuracy: 0.7800 - val_loss: 0.5635 - val_accuracy: 0.7346\n",
      "Epoch 75/1500\n",
      "48/48 [==============================] - 0s 4ms/step - loss: 0.4949 - accuracy: 0.7734 - val_loss: 0.5846 - val_accuracy: 0.7171\n",
      "Epoch 76/1500\n",
      "48/48 [==============================] - 0s 4ms/step - loss: 0.4975 - accuracy: 0.7713 - val_loss: 0.5912 - val_accuracy: 0.7329\n",
      "Epoch 77/1500\n",
      "48/48 [==============================] - 0s 5ms/step - loss: 0.4912 - accuracy: 0.7792 - val_loss: 0.5959 - val_accuracy: 0.7242\n",
      "Epoch 78/1500\n",
      "48/48 [==============================] - 0s 6ms/step - loss: 0.4894 - accuracy: 0.7789 - val_loss: 0.5725 - val_accuracy: 0.7342\n",
      "Epoch 79/1500\n",
      "48/48 [==============================] - 0s 4ms/step - loss: 0.4779 - accuracy: 0.7829 - val_loss: 0.5638 - val_accuracy: 0.7350\n",
      "Epoch 80/1500\n",
      "48/48 [==============================] - 0s 6ms/step - loss: 0.4767 - accuracy: 0.7814 - val_loss: 0.5565 - val_accuracy: 0.7308\n",
      "Epoch 81/1500\n",
      "48/48 [==============================] - 0s 4ms/step - loss: 0.4806 - accuracy: 0.7811 - val_loss: 0.5758 - val_accuracy: 0.7325\n",
      "Epoch 82/1500\n",
      "48/48 [==============================] - 0s 4ms/step - loss: 0.4847 - accuracy: 0.7784 - val_loss: 0.5668 - val_accuracy: 0.7337\n",
      "Epoch 83/1500\n",
      "48/48 [==============================] - 0s 3ms/step - loss: 0.4727 - accuracy: 0.7855 - val_loss: 0.5661 - val_accuracy: 0.7354\n",
      "Epoch 84/1500\n",
      "48/48 [==============================] - 0s 3ms/step - loss: 0.4756 - accuracy: 0.7831 - val_loss: 0.5635 - val_accuracy: 0.7354\n",
      "Epoch 85/1500\n",
      "48/48 [==============================] - 0s 4ms/step - loss: 0.4704 - accuracy: 0.7867 - val_loss: 0.5649 - val_accuracy: 0.7437\n",
      "Epoch 86/1500\n",
      "48/48 [==============================] - 0s 3ms/step - loss: 0.4656 - accuracy: 0.7892 - val_loss: 0.5692 - val_accuracy: 0.7387\n",
      "Epoch 87/1500\n",
      "48/48 [==============================] - 0s 4ms/step - loss: 0.4724 - accuracy: 0.7867 - val_loss: 0.5701 - val_accuracy: 0.7392\n",
      "Epoch 88/1500\n",
      "48/48 [==============================] - 0s 4ms/step - loss: 0.4714 - accuracy: 0.7873 - val_loss: 0.5770 - val_accuracy: 0.7396\n",
      "Epoch 89/1500\n",
      "48/48 [==============================] - 0s 4ms/step - loss: 0.4656 - accuracy: 0.7900 - val_loss: 0.5763 - val_accuracy: 0.7317\n",
      "Epoch 90/1500\n",
      "48/48 [==============================] - 0s 5ms/step - loss: 0.4677 - accuracy: 0.7887 - val_loss: 0.5689 - val_accuracy: 0.7396\n",
      "Epoch 91/1500\n",
      "48/48 [==============================] - 0s 3ms/step - loss: 0.4757 - accuracy: 0.7885 - val_loss: 0.6015 - val_accuracy: 0.7325\n",
      "Epoch 92/1500\n",
      "48/48 [==============================] - 0s 3ms/step - loss: 0.4786 - accuracy: 0.7840 - val_loss: 0.5625 - val_accuracy: 0.7375\n",
      "Epoch 93/1500\n",
      "48/48 [==============================] - 0s 4ms/step - loss: 0.4672 - accuracy: 0.7894 - val_loss: 0.5727 - val_accuracy: 0.7354\n",
      "Epoch 94/1500\n",
      "48/48 [==============================] - 0s 4ms/step - loss: 0.4704 - accuracy: 0.7885 - val_loss: 0.5876 - val_accuracy: 0.7337\n",
      "Epoch 95/1500\n",
      "48/48 [==============================] - 0s 4ms/step - loss: 0.4688 - accuracy: 0.7896 - val_loss: 0.5946 - val_accuracy: 0.7325\n",
      "Epoch 96/1500\n",
      "48/48 [==============================] - 0s 3ms/step - loss: 0.4672 - accuracy: 0.7872 - val_loss: 0.5799 - val_accuracy: 0.7375\n",
      "Epoch 97/1500\n",
      "48/48 [==============================] - 0s 4ms/step - loss: 0.4672 - accuracy: 0.7892 - val_loss: 0.5766 - val_accuracy: 0.7371\n",
      "Epoch 98/1500\n",
      "48/48 [==============================] - 0s 5ms/step - loss: 0.4761 - accuracy: 0.7840 - val_loss: 0.5764 - val_accuracy: 0.7404\n",
      "Epoch 99/1500\n",
      "48/48 [==============================] - 0s 3ms/step - loss: 0.4726 - accuracy: 0.7876 - val_loss: 0.5983 - val_accuracy: 0.7358\n",
      "Epoch 100/1500\n",
      "48/48 [==============================] - 0s 5ms/step - loss: 0.4786 - accuracy: 0.7885 - val_loss: 0.5833 - val_accuracy: 0.7337\n",
      "Epoch 101/1500\n",
      "48/48 [==============================] - 0s 3ms/step - loss: 0.4792 - accuracy: 0.7878 - val_loss: 0.5990 - val_accuracy: 0.7317\n",
      "Epoch 102/1500\n",
      "48/48 [==============================] - 0s 4ms/step - loss: 0.4792 - accuracy: 0.7849 - val_loss: 0.5758 - val_accuracy: 0.7358\n",
      "Epoch 103/1500\n",
      "48/48 [==============================] - 0s 7ms/step - loss: 0.4723 - accuracy: 0.7870 - val_loss: 0.5777 - val_accuracy: 0.7412\n",
      "Epoch 104/1500\n",
      "48/48 [==============================] - 0s 3ms/step - loss: 0.4673 - accuracy: 0.7870 - val_loss: 0.5785 - val_accuracy: 0.7375\n",
      "Epoch 105/1500\n",
      "48/48 [==============================] - 0s 4ms/step - loss: 0.4627 - accuracy: 0.7918 - val_loss: 0.5803 - val_accuracy: 0.7312\n",
      "Epoch 106/1500\n",
      "48/48 [==============================] - 0s 4ms/step - loss: 0.4662 - accuracy: 0.7870 - val_loss: 0.5632 - val_accuracy: 0.7425\n",
      "Epoch 107/1500\n",
      "48/48 [==============================] - 0s 4ms/step - loss: 0.4633 - accuracy: 0.7877 - val_loss: 0.5791 - val_accuracy: 0.7279\n",
      "Epoch 108/1500\n",
      "48/48 [==============================] - 0s 3ms/step - loss: 0.4559 - accuracy: 0.7942 - val_loss: 0.5812 - val_accuracy: 0.7362\n",
      "Epoch 109/1500\n",
      "48/48 [==============================] - 0s 4ms/step - loss: 0.4963 - accuracy: 0.7843 - val_loss: 0.6319 - val_accuracy: 0.7304\n",
      "Epoch 110/1500\n",
      "48/48 [==============================] - 0s 3ms/step - loss: 0.5005 - accuracy: 0.7728 - val_loss: 0.6337 - val_accuracy: 0.7233\n",
      "Epoch 111/1500\n",
      "48/48 [==============================] - 0s 4ms/step - loss: 0.5183 - accuracy: 0.7809 - val_loss: 0.6027 - val_accuracy: 0.7329\n",
      "Epoch 112/1500\n",
      "48/48 [==============================] - 0s 4ms/step - loss: 0.4789 - accuracy: 0.7858 - val_loss: 0.5814 - val_accuracy: 0.7462\n",
      "Epoch 113/1500\n",
      "48/48 [==============================] - 0s 4ms/step - loss: 0.4742 - accuracy: 0.7917 - val_loss: 0.6322 - val_accuracy: 0.7446\n",
      "Epoch 114/1500\n",
      "48/48 [==============================] - 0s 3ms/step - loss: 0.4785 - accuracy: 0.7928 - val_loss: 0.5823 - val_accuracy: 0.7396\n",
      "Epoch 115/1500\n",
      "48/48 [==============================] - 0s 3ms/step - loss: 0.4678 - accuracy: 0.7884 - val_loss: 0.5640 - val_accuracy: 0.7421\n",
      "Epoch 116/1500\n",
      "48/48 [==============================] - 0s 3ms/step - loss: 0.4610 - accuracy: 0.7937 - val_loss: 0.5671 - val_accuracy: 0.7446\n",
      "Epoch 117/1500\n",
      "48/48 [==============================] - 0s 3ms/step - loss: 0.4579 - accuracy: 0.7941 - val_loss: 0.5794 - val_accuracy: 0.7404\n",
      "Epoch 118/1500\n",
      "48/48 [==============================] - 0s 4ms/step - loss: 0.4676 - accuracy: 0.7933 - val_loss: 0.5798 - val_accuracy: 0.7442\n",
      "Epoch 119/1500\n",
      "48/48 [==============================] - 0s 3ms/step - loss: 0.4592 - accuracy: 0.7945 - val_loss: 0.6060 - val_accuracy: 0.7346\n",
      "Epoch 120/1500\n",
      "48/48 [==============================] - 0s 3ms/step - loss: 0.4751 - accuracy: 0.7904 - val_loss: 0.6038 - val_accuracy: 0.7275\n",
      "Epoch 121/1500\n",
      "48/48 [==============================] - 0s 4ms/step - loss: 0.5250 - accuracy: 0.7741 - val_loss: 0.6069 - val_accuracy: 0.7271\n",
      "Epoch 122/1500\n",
      "48/48 [==============================] - 0s 4ms/step - loss: 0.4799 - accuracy: 0.7872 - val_loss: 0.5854 - val_accuracy: 0.7308\n",
      "Epoch 123/1500\n",
      "48/48 [==============================] - 0s 3ms/step - loss: 0.4814 - accuracy: 0.7884 - val_loss: 0.5623 - val_accuracy: 0.7346\n",
      "Epoch 124/1500\n",
      "48/48 [==============================] - 0s 3ms/step - loss: 0.4842 - accuracy: 0.7853 - val_loss: 0.5985 - val_accuracy: 0.7354\n",
      "Epoch 125/1500\n",
      "48/48 [==============================] - 0s 6ms/step - loss: 0.4805 - accuracy: 0.7880 - val_loss: 0.5700 - val_accuracy: 0.7392\n",
      "Epoch 126/1500\n",
      "48/48 [==============================] - 0s 5ms/step - loss: 0.4646 - accuracy: 0.7905 - val_loss: 0.5706 - val_accuracy: 0.7367\n",
      "Epoch 127/1500\n",
      "48/48 [==============================] - 0s 5ms/step - loss: 0.4728 - accuracy: 0.7923 - val_loss: 0.5927 - val_accuracy: 0.7329\n",
      "Epoch 128/1500\n",
      "48/48 [==============================] - 0s 4ms/step - loss: 0.4635 - accuracy: 0.7954 - val_loss: 0.5738 - val_accuracy: 0.7367\n",
      "Epoch 129/1500\n",
      "48/48 [==============================] - 0s 4ms/step - loss: 0.4616 - accuracy: 0.7940 - val_loss: 0.5829 - val_accuracy: 0.7392\n",
      "Epoch 130/1500\n",
      "48/48 [==============================] - 0s 4ms/step - loss: 0.4691 - accuracy: 0.7924 - val_loss: 0.6040 - val_accuracy: 0.7312\n",
      "Epoch 131/1500\n",
      "48/48 [==============================] - 0s 3ms/step - loss: 0.5252 - accuracy: 0.7801 - val_loss: 0.5842 - val_accuracy: 0.7446\n",
      "Epoch 132/1500\n",
      "48/48 [==============================] - 0s 3ms/step - loss: 0.4883 - accuracy: 0.7848 - val_loss: 0.5810 - val_accuracy: 0.7321\n",
      "Epoch 133/1500\n",
      "48/48 [==============================] - 0s 4ms/step - loss: 0.4753 - accuracy: 0.7872 - val_loss: 0.5788 - val_accuracy: 0.7387\n",
      "Epoch 134/1500\n",
      "48/48 [==============================] - ETA: 0s - loss: 0.4627 - accuracy: 0.79 - 0s 4ms/step - loss: 0.4636 - accuracy: 0.7927 - val_loss: 0.5780 - val_accuracy: 0.7412\n",
      "Epoch 135/1500\n",
      "48/48 [==============================] - 0s 3ms/step - loss: 0.4637 - accuracy: 0.7918 - val_loss: 0.5598 - val_accuracy: 0.7404\n",
      "Epoch 136/1500\n",
      "48/48 [==============================] - 0s 4ms/step - loss: 0.4495 - accuracy: 0.7978 - val_loss: 0.5732 - val_accuracy: 0.7408\n",
      "Epoch 137/1500\n",
      "48/48 [==============================] - 0s 4ms/step - loss: 0.4485 - accuracy: 0.7980 - val_loss: 0.5908 - val_accuracy: 0.7421\n",
      "Epoch 138/1500\n",
      "48/48 [==============================] - 0s 4ms/step - loss: 0.4510 - accuracy: 0.7996 - val_loss: 0.5992 - val_accuracy: 0.7429\n",
      "Epoch 139/1500\n",
      "48/48 [==============================] - 0s 7ms/step - loss: 0.4613 - accuracy: 0.7983 - val_loss: 0.5830 - val_accuracy: 0.7404\n",
      "Epoch 140/1500\n",
      "48/48 [==============================] - 0s 7ms/step - loss: 0.4578 - accuracy: 0.7967 - val_loss: 0.5689 - val_accuracy: 0.7437\n",
      "Epoch 141/1500\n",
      "48/48 [==============================] - 0s 5ms/step - loss: 0.4548 - accuracy: 0.7965 - val_loss: 0.5977 - val_accuracy: 0.7275\n",
      "Epoch 142/1500\n",
      "48/48 [==============================] - 0s 4ms/step - loss: 0.4529 - accuracy: 0.7977 - val_loss: 0.5946 - val_accuracy: 0.7362\n",
      "Epoch 143/1500\n",
      "48/48 [==============================] - 0s 5ms/step - loss: 0.4544 - accuracy: 0.7990 - val_loss: 0.5749 - val_accuracy: 0.7454\n",
      "Epoch 144/1500\n",
      "48/48 [==============================] - 0s 5ms/step - loss: 0.4464 - accuracy: 0.8025 - val_loss: 0.5802 - val_accuracy: 0.7458\n",
      "Epoch 145/1500\n",
      "48/48 [==============================] - 0s 3ms/step - loss: 0.4619 - accuracy: 0.7968 - val_loss: 0.5644 - val_accuracy: 0.7396\n",
      "Epoch 146/1500\n",
      "48/48 [==============================] - 0s 3ms/step - loss: 0.4621 - accuracy: 0.7874 - val_loss: 0.5780 - val_accuracy: 0.7425\n",
      "Epoch 147/1500\n",
      "48/48 [==============================] - 0s 5ms/step - loss: 0.4481 - accuracy: 0.7995 - val_loss: 0.5931 - val_accuracy: 0.7442\n",
      "Epoch 148/1500\n",
      "48/48 [==============================] - 0s 4ms/step - loss: 0.4597 - accuracy: 0.7955 - val_loss: 0.5737 - val_accuracy: 0.7421\n",
      "Epoch 149/1500\n",
      "48/48 [==============================] - 0s 3ms/step - loss: 0.4553 - accuracy: 0.7982 - val_loss: 0.5890 - val_accuracy: 0.7362\n",
      "Epoch 150/1500\n",
      "48/48 [==============================] - 0s 3ms/step - loss: 0.4504 - accuracy: 0.8008 - val_loss: 0.5907 - val_accuracy: 0.7433\n",
      "Epoch 151/1500\n",
      "48/48 [==============================] - 0s 4ms/step - loss: 0.4619 - accuracy: 0.7926 - val_loss: 0.5812 - val_accuracy: 0.7387\n",
      "Epoch 152/1500\n",
      "48/48 [==============================] - 0s 4ms/step - loss: 0.4510 - accuracy: 0.7973 - val_loss: 0.6129 - val_accuracy: 0.7346\n",
      "Epoch 153/1500\n",
      "48/48 [==============================] - 0s 4ms/step - loss: 0.4468 - accuracy: 0.7974 - val_loss: 0.5806 - val_accuracy: 0.7400\n",
      "Epoch 154/1500\n",
      "48/48 [==============================] - 0s 4ms/step - loss: 0.4396 - accuracy: 0.8051 - val_loss: 0.5722 - val_accuracy: 0.7471\n",
      "Epoch 155/1500\n",
      "48/48 [==============================] - 0s 6ms/step - loss: 0.4424 - accuracy: 0.8053 - val_loss: 0.5975 - val_accuracy: 0.7421\n",
      "Epoch 156/1500\n",
      "48/48 [==============================] - 0s 4ms/step - loss: 0.4504 - accuracy: 0.8017 - val_loss: 0.6112 - val_accuracy: 0.7437\n",
      "Epoch 157/1500\n",
      "48/48 [==============================] - 0s 6ms/step - loss: 0.4468 - accuracy: 0.7974 - val_loss: 0.5785 - val_accuracy: 0.7471\n",
      "Epoch 158/1500\n",
      "48/48 [==============================] - 0s 4ms/step - loss: 0.4443 - accuracy: 0.7975 - val_loss: 0.5903 - val_accuracy: 0.7446\n",
      "Epoch 159/1500\n",
      "48/48 [==============================] - 0s 4ms/step - loss: 0.4472 - accuracy: 0.7982 - val_loss: 0.6076 - val_accuracy: 0.7417\n",
      "Epoch 160/1500\n",
      "48/48 [==============================] - 0s 3ms/step - loss: 0.5434 - accuracy: 0.7949 - val_loss: 0.6010 - val_accuracy: 0.7362\n",
      "Epoch 161/1500\n",
      "48/48 [==============================] - 0s 4ms/step - loss: 0.4516 - accuracy: 0.7992 - val_loss: 0.5988 - val_accuracy: 0.7358\n",
      "Epoch 162/1500\n",
      "48/48 [==============================] - 0s 3ms/step - loss: 0.4449 - accuracy: 0.7984 - val_loss: 0.5889 - val_accuracy: 0.7350\n",
      "Epoch 163/1500\n",
      "48/48 [==============================] - 0s 3ms/step - loss: 0.4513 - accuracy: 0.8011 - val_loss: 0.5729 - val_accuracy: 0.7467\n",
      "Epoch 164/1500\n",
      "48/48 [==============================] - 0s 4ms/step - loss: 0.4389 - accuracy: 0.7992 - val_loss: 0.6377 - val_accuracy: 0.7304\n",
      "Epoch 165/1500\n",
      "48/48 [==============================] - 0s 3ms/step - loss: 0.4936 - accuracy: 0.7952 - val_loss: 0.6006 - val_accuracy: 0.7371\n",
      "Epoch 166/1500\n",
      "48/48 [==============================] - 0s 4ms/step - loss: 0.4810 - accuracy: 0.7903 - val_loss: 0.5958 - val_accuracy: 0.7267\n",
      "Epoch 167/1500\n",
      "48/48 [==============================] - 0s 3ms/step - loss: 0.4580 - accuracy: 0.7962 - val_loss: 0.5847 - val_accuracy: 0.7425\n",
      "Epoch 168/1500\n",
      "48/48 [==============================] - 0s 3ms/step - loss: 0.4394 - accuracy: 0.8030 - val_loss: 0.5894 - val_accuracy: 0.7379\n",
      "Epoch 169/1500\n",
      "48/48 [==============================] - 0s 4ms/step - loss: 0.4386 - accuracy: 0.8039 - val_loss: 0.5986 - val_accuracy: 0.7346\n",
      "Epoch 170/1500\n",
      "48/48 [==============================] - 0s 4ms/step - loss: 0.4333 - accuracy: 0.8055 - val_loss: 0.5952 - val_accuracy: 0.7417\n",
      "Epoch 171/1500\n",
      "48/48 [==============================] - 0s 4ms/step - loss: 0.4325 - accuracy: 0.8049 - val_loss: 0.6054 - val_accuracy: 0.7446\n",
      "Epoch 172/1500\n",
      "48/48 [==============================] - 0s 3ms/step - loss: 0.4286 - accuracy: 0.8050 - val_loss: 0.5892 - val_accuracy: 0.7379\n",
      "Epoch 173/1500\n",
      "48/48 [==============================] - 0s 3ms/step - loss: 0.4379 - accuracy: 0.8035 - val_loss: 0.5894 - val_accuracy: 0.7404\n",
      "Epoch 174/1500\n",
      "48/48 [==============================] - 0s 4ms/step - loss: 0.4288 - accuracy: 0.8104 - val_loss: 0.5813 - val_accuracy: 0.7396\n",
      "Epoch 175/1500\n",
      "48/48 [==============================] - 0s 3ms/step - loss: 0.4245 - accuracy: 0.8096 - val_loss: 0.5929 - val_accuracy: 0.7346\n",
      "Epoch 176/1500\n",
      "48/48 [==============================] - 0s 5ms/step - loss: 0.4255 - accuracy: 0.8096 - val_loss: 0.6055 - val_accuracy: 0.7412\n",
      "Epoch 177/1500\n",
      "48/48 [==============================] - 0s 7ms/step - loss: 0.4271 - accuracy: 0.8065 - val_loss: 0.5960 - val_accuracy: 0.7408\n",
      "Epoch 178/1500\n",
      "48/48 [==============================] - 0s 7ms/step - loss: 0.4203 - accuracy: 0.8115 - val_loss: 0.5926 - val_accuracy: 0.7333\n",
      "Epoch 179/1500\n",
      "48/48 [==============================] - 0s 6ms/step - loss: 0.4255 - accuracy: 0.8060 - val_loss: 0.5956 - val_accuracy: 0.7375\n",
      "Epoch 180/1500\n",
      "48/48 [==============================] - 0s 5ms/step - loss: 0.4255 - accuracy: 0.8078 - val_loss: 0.5938 - val_accuracy: 0.7429\n"
     ]
    }
   ],
   "source": [
    "from keras.models import Sequential\n",
    "from keras.layers import Dense\n",
    "from keras.callbacks import ModelCheckpoint,EarlyStopping\n",
    "import os\n",
    "# 모델의 설정\n",
    "model = Sequential()\n",
    "model.add(Dense(50,  input_dim=42, activation='relu'))\n",
    "model.add(Dense(40, activation='relu'))\n",
    "model.add(Dense(30, activation='relu'))\n",
    "model.add(Dense(30, activation='relu'))\n",
    "model.add(Dense(1, activation='sigmoid'))\n",
    "\n",
    "# 모델 컴파일\n",
    "model.compile(loss='binary_crossentropy',\n",
    "          optimizer='adam',\n",
    "          metrics=['accuracy'])\n",
    "\n",
    "# 모델 저장 폴더 설정\n",
    "MODEL_DIR = './model01/'\n",
    "if not os.path.exists(MODEL_DIR):\n",
    "   os.mkdir(MODEL_DIR)\n",
    "\n",
    "# 모델 저장 조건 설정\n",
    "modelpath=MODEL_DIR+\"{epoch:02d}-{val_loss:.4f}.hdf5\"\n",
    "checkpointer = ModelCheckpoint(filepath=modelpath, monitor='val_loss', verbose=0, save_best_only=True)\n",
    "early_stopping_callback = EarlyStopping(monitor='val_loss', patience=100)\n",
    "# 모델 실행 및 저장\n",
    "history = model.fit(xtr, ytr, validation_split=0.2, epochs=1500, batch_size=200, verbose=1, callbacks=[checkpointer,early_stopping_callback])"
   ]
  },
  {
   "cell_type": "code",
   "execution_count": 33,
   "metadata": {},
   "outputs": [
    {
     "name": "stdout",
     "output_type": "stream",
     "text": [
      "94/94 [==============================] - 0s 1ms/step - loss: 0.6071 - accuracy: 0.7560\n"
     ]
    },
    {
     "data": {
      "text/plain": [
       "[0.6071035861968994, 0.7559999823570251]"
      ]
     },
     "execution_count": 33,
     "metadata": {},
     "output_type": "execute_result"
    }
   ],
   "source": [
    "model.evaluate(xte,yte)"
   ]
  },
  {
   "cell_type": "code",
   "execution_count": null,
   "metadata": {},
   "outputs": [],
   "source": [
    "# y_vloss에 테스트셋으로 실험 결과의 오차 값을 저장\n",
    "y_vloss=history.history['val_loss']\n",
    "\n",
    "# y_acc 에 학습 셋으로 측정한 정확도의 값을 저장\n",
    "y_acc=history.history['val_accuracy']\n",
    "\n",
    "# x값을 지정하고 정확도를 파란색으로, 오차를 빨간색으로 표시\n",
    "x_len = numpy.arange(len(y_acc))\n",
    "plt.plot(x_len, y_vloss, \"o\", c=\"red\", markersize=3)\n",
    "plt.plot(x_len, y_acc, \"o\", c=\"blue\", markersize=3)\n",
    "\n",
    "plt.show()\n",
    "\n",
    "# early stop\n",
    "# 결과 출력\n",
    "print(\"\\n Accuracy: %.4f\" % (model.evaluate(X, Y)[1]))"
   ]
  },
  {
   "cell_type": "markdown",
   "metadata": {},
   "source": [
    "# 3. Light-gbm 모델 훈련"
   ]
  },
  {
   "cell_type": "code",
   "execution_count": 8,
   "metadata": {},
   "outputs": [
    {
     "name": "stdout",
     "output_type": "stream",
     "text": [
      "(15000, 42)\n",
      "(15000,)\n"
     ]
    }
   ],
   "source": [
    "# 변수 이름 변경\n",
    "# error  -> train_x\n",
    "# problem-> train_y\n",
    "\n",
    "train_x = error\n",
    "train_y = problem\n",
    "del error, problem\n",
    "print(train_x.shape)\n",
    "print(train_y.shape)"
   ]
  },
  {
   "cell_type": "code",
   "execution_count": null,
   "metadata": {},
   "outputs": [],
   "source": []
  },
  {
   "cell_type": "code",
   "execution_count": 12,
   "metadata": {},
   "outputs": [
    {
     "data": {
      "text/html": [
       "<div>\n",
       "<style scoped>\n",
       "    .dataframe tbody tr th:only-of-type {\n",
       "        vertical-align: middle;\n",
       "    }\n",
       "\n",
       "    .dataframe tbody tr th {\n",
       "        vertical-align: top;\n",
       "    }\n",
       "\n",
       "    .dataframe thead th {\n",
       "        text-align: right;\n",
       "    }\n",
       "</style>\n",
       "<table border=\"1\" class=\"dataframe\">\n",
       "  <thead>\n",
       "    <tr style=\"text-align: right;\">\n",
       "      <th></th>\n",
       "      <th>user_id</th>\n",
       "      <th>time</th>\n",
       "      <th>model_nm</th>\n",
       "      <th>fwver</th>\n",
       "      <th>errtype</th>\n",
       "      <th>errcode</th>\n",
       "    </tr>\n",
       "  </thead>\n",
       "  <tbody>\n",
       "    <tr>\n",
       "      <th>0</th>\n",
       "      <td>10000</td>\n",
       "      <td>20201101025616</td>\n",
       "      <td>model_3</td>\n",
       "      <td>05.15.2138</td>\n",
       "      <td>15</td>\n",
       "      <td>1</td>\n",
       "    </tr>\n",
       "    <tr>\n",
       "      <th>1</th>\n",
       "      <td>10000</td>\n",
       "      <td>20201101030309</td>\n",
       "      <td>model_3</td>\n",
       "      <td>05.15.2138</td>\n",
       "      <td>12</td>\n",
       "      <td>1</td>\n",
       "    </tr>\n",
       "    <tr>\n",
       "      <th>2</th>\n",
       "      <td>10000</td>\n",
       "      <td>20201101030309</td>\n",
       "      <td>model_3</td>\n",
       "      <td>05.15.2138</td>\n",
       "      <td>11</td>\n",
       "      <td>1</td>\n",
       "    </tr>\n",
       "    <tr>\n",
       "      <th>3</th>\n",
       "      <td>10000</td>\n",
       "      <td>20201101050514</td>\n",
       "      <td>model_3</td>\n",
       "      <td>05.15.2138</td>\n",
       "      <td>16</td>\n",
       "      <td>1</td>\n",
       "    </tr>\n",
       "    <tr>\n",
       "      <th>4</th>\n",
       "      <td>10000</td>\n",
       "      <td>20201101050515</td>\n",
       "      <td>model_3</td>\n",
       "      <td>05.15.2138</td>\n",
       "      <td>4</td>\n",
       "      <td>0</td>\n",
       "    </tr>\n",
       "    <tr>\n",
       "      <th>...</th>\n",
       "      <td>...</td>\n",
       "      <td>...</td>\n",
       "      <td>...</td>\n",
       "      <td>...</td>\n",
       "      <td>...</td>\n",
       "      <td>...</td>\n",
       "    </tr>\n",
       "    <tr>\n",
       "      <th>16554658</th>\n",
       "      <td>24999</td>\n",
       "      <td>20201130163051</td>\n",
       "      <td>model_3</td>\n",
       "      <td>05.15.2138</td>\n",
       "      <td>15</td>\n",
       "      <td>1</td>\n",
       "    </tr>\n",
       "    <tr>\n",
       "      <th>16554659</th>\n",
       "      <td>24999</td>\n",
       "      <td>20201130172625</td>\n",
       "      <td>model_3</td>\n",
       "      <td>05.15.2138</td>\n",
       "      <td>16</td>\n",
       "      <td>1</td>\n",
       "    </tr>\n",
       "    <tr>\n",
       "      <th>16554660</th>\n",
       "      <td>24999</td>\n",
       "      <td>20201130172625</td>\n",
       "      <td>model_3</td>\n",
       "      <td>05.15.2138</td>\n",
       "      <td>4</td>\n",
       "      <td>0</td>\n",
       "    </tr>\n",
       "    <tr>\n",
       "      <th>16554661</th>\n",
       "      <td>24999</td>\n",
       "      <td>20201130172631</td>\n",
       "      <td>model_3</td>\n",
       "      <td>05.15.2138</td>\n",
       "      <td>4</td>\n",
       "      <td>0</td>\n",
       "    </tr>\n",
       "    <tr>\n",
       "      <th>16554662</th>\n",
       "      <td>24999</td>\n",
       "      <td>20201130210625</td>\n",
       "      <td>model_3</td>\n",
       "      <td>05.15.2138</td>\n",
       "      <td>15</td>\n",
       "      <td>1</td>\n",
       "    </tr>\n",
       "  </tbody>\n",
       "</table>\n",
       "<p>16554663 rows × 6 columns</p>\n",
       "</div>"
      ],
      "text/plain": [
       "          user_id            time model_nm       fwver  errtype errcode\n",
       "0           10000  20201101025616  model_3  05.15.2138       15       1\n",
       "1           10000  20201101030309  model_3  05.15.2138       12       1\n",
       "2           10000  20201101030309  model_3  05.15.2138       11       1\n",
       "3           10000  20201101050514  model_3  05.15.2138       16       1\n",
       "4           10000  20201101050515  model_3  05.15.2138        4       0\n",
       "...           ...             ...      ...         ...      ...     ...\n",
       "16554658    24999  20201130163051  model_3  05.15.2138       15       1\n",
       "16554659    24999  20201130172625  model_3  05.15.2138       16       1\n",
       "16554660    24999  20201130172625  model_3  05.15.2138        4       0\n",
       "16554661    24999  20201130172631  model_3  05.15.2138        4       0\n",
       "16554662    24999  20201130210625  model_3  05.15.2138       15       1\n",
       "\n",
       "[16554663 rows x 6 columns]"
      ]
     },
     "execution_count": 12,
     "metadata": {},
     "output_type": "execute_result"
    }
   ],
   "source": [
    "train_err"
   ]
  },
  {
   "cell_type": "code",
   "execution_count": 11,
   "metadata": {},
   "outputs": [
    {
     "data": {
      "text/plain": [
       "array([[  0.,   0.,   8., ...,   0.,   0.,   0.],\n",
       "       [  0.,   0.,   0., ..., 113.,  56.,   1.],\n",
       "       [  0.,   0.,   2., ...,   0.,   0.,   0.],\n",
       "       ...,\n",
       "       [  0.,   0.,   0., ...,  58.,   8.,   5.],\n",
       "       [  0.,   0.,   0., ...,   6.,   0.,   0.],\n",
       "       [  0.,   0.,   4., ...,   0.,   0.,   0.]])"
      ]
     },
     "execution_count": 11,
     "metadata": {},
     "output_type": "execute_result"
    }
   ],
   "source": [
    "train_x"
   ]
  },
  {
   "cell_type": "code",
   "execution_count": 1,
   "metadata": {},
   "outputs": [
    {
     "ename": "NameError",
     "evalue": "name 'KFold' is not defined",
     "output_type": "error",
     "traceback": [
      "\u001b[1;31m---------------------------------------------------------------------------\u001b[0m",
      "\u001b[1;31mNameError\u001b[0m                                 Traceback (most recent call last)",
      "\u001b[1;32m<ipython-input-1-b9bd9316f6dd>\u001b[0m in \u001b[0;36m<module>\u001b[1;34m\u001b[0m\n\u001b[0;32m     26\u001b[0m \u001b[1;31m#-------------------------------------------------------------------------------------\u001b[0m\u001b[1;33m\u001b[0m\u001b[1;33m\u001b[0m\u001b[1;33m\u001b[0m\u001b[0m\n\u001b[0;32m     27\u001b[0m \u001b[1;31m# 5 Kfold cross validation\u001b[0m\u001b[1;33m\u001b[0m\u001b[1;33m\u001b[0m\u001b[1;33m\u001b[0m\u001b[0m\n\u001b[1;32m---> 28\u001b[1;33m \u001b[0mk_fold\u001b[0m \u001b[1;33m=\u001b[0m \u001b[0mKFold\u001b[0m\u001b[1;33m(\u001b[0m\u001b[0mn_splits\u001b[0m\u001b[1;33m=\u001b[0m\u001b[1;36m5\u001b[0m\u001b[1;33m,\u001b[0m \u001b[0mshuffle\u001b[0m\u001b[1;33m=\u001b[0m\u001b[1;32mTrue\u001b[0m\u001b[1;33m,\u001b[0m \u001b[0mrandom_state\u001b[0m\u001b[1;33m=\u001b[0m\u001b[1;36m42\u001b[0m\u001b[1;33m)\u001b[0m\u001b[1;33m\u001b[0m\u001b[1;33m\u001b[0m\u001b[0m\n\u001b[0m\u001b[0;32m     29\u001b[0m \u001b[1;32mfor\u001b[0m \u001b[0mtrain_idx\u001b[0m\u001b[1;33m,\u001b[0m \u001b[0mval_idx\u001b[0m \u001b[1;32min\u001b[0m \u001b[0mk_fold\u001b[0m\u001b[1;33m.\u001b[0m\u001b[0msplit\u001b[0m\u001b[1;33m(\u001b[0m\u001b[0mtrain_x\u001b[0m\u001b[1;33m)\u001b[0m\u001b[1;33m:\u001b[0m\u001b[1;33m\u001b[0m\u001b[1;33m\u001b[0m\u001b[0m\n\u001b[0;32m     30\u001b[0m \u001b[1;33m\u001b[0m\u001b[0m\n",
      "\u001b[1;31mNameError\u001b[0m: name 'KFold' is not defined"
     ]
    }
   ],
   "source": [
    "# Train\n",
    "#-------------------------------------------------------------------------------------\n",
    "# validation auc score를 확인하기 위해 정의\n",
    "def f_pr_auc(probas_pred, y_true):\n",
    "    labels=y_true.get_label()\n",
    "    p, r, _ = precision_recall_curve(labels, probas_pred)\n",
    "    score=auc(r,p) \n",
    "#     print(\"=\"*19)\n",
    "#     print(\"auc\")\n",
    "#     print(\"p : \",p)\n",
    "#     print(\"p : \",r)\n",
    "    return \"pr_auc\", score, True\n",
    "#-------------------------------------------------------------------------------------\n",
    "models     = []\n",
    "recalls    = []\n",
    "precisions = []\n",
    "auc_scores   = []\n",
    "threshold = 0.5\n",
    "# 파라미터 설정\n",
    "params =      {\n",
    "                'boosting_type' : 'gbdt',\n",
    "                'objective'     : 'binary',\n",
    "                'metric'        : 'auc',\n",
    "                'seed': 1015\n",
    "                }\n",
    "#-------------------------------------------------------------------------------------\n",
    "# 5 Kfold cross validation\n",
    "k_fold = KFold(n_splits=5, shuffle=True, random_state=42)\n",
    "for train_idx, val_idx in k_fold.split(train_x):\n",
    "\n",
    "    # split train, validation set\n",
    "    X = train_x[train_idx]\n",
    "    y = train_y[train_idx]\n",
    "    valid_x = train_x[val_idx]\n",
    "    valid_y = train_y[val_idx]\n",
    "\n",
    "    d_train= lgb.Dataset(X, y)\n",
    "    d_val  = lgb.Dataset(valid_x, valid_y)\n",
    "    \n",
    "    #run traning\n",
    "    model = lgb.train(\n",
    "                        params,\n",
    "                        train_set       = d_train,\n",
    "                        num_boost_round = 1000,\n",
    "                        valid_sets      = d_val,\n",
    "                        feval           = f_pr_auc,\n",
    "                        verbose_eval    = 20, \n",
    "                        early_stopping_rounds = 3\n",
    "                       )\n",
    "    \n",
    "    # cal valid prediction\n",
    "    valid_prob = model.predict(valid_x)\n",
    "    valid_pred = np.where(valid_prob > threshold, 1, 0)\n",
    "    \n",
    "    # cal scores\n",
    "    recall    = recall_score(    valid_y, valid_pred)\n",
    "    precision = precision_score( valid_y, valid_pred)\n",
    "    auc_score = roc_auc_score(   valid_y, valid_prob)\n",
    "\n",
    "    # append scores\n",
    "    models.append(model)\n",
    "    recalls.append(recall)\n",
    "    precisions.append(precision)\n",
    "    auc_scores.append(auc_score)\n",
    "\n",
    "    print('==========================================================')"
   ]
  },
  {
   "cell_type": "markdown",
   "metadata": {},
   "source": [
    "# 4. 교차검증 점수 확인"
   ]
  },
  {
   "cell_type": "code",
   "execution_count": 16,
   "metadata": {},
   "outputs": [
    {
     "data": {
      "text/plain": [
       "[0.8007125799227796,\n",
       " 0.7884794085720864,\n",
       " 0.758497982976636,\n",
       " 0.8074856214829527,\n",
       " 0.801889506556662]"
      ]
     },
     "execution_count": 16,
     "metadata": {},
     "output_type": "execute_result"
    }
   ],
   "source": [
    "auc_scores\n"
   ]
  },
  {
   "cell_type": "code",
   "execution_count": 10,
   "metadata": {},
   "outputs": [
    {
     "name": "stdout",
     "output_type": "stream",
     "text": [
      "0.7914130199022232\n"
     ]
    }
   ],
   "source": [
    "print(np.mean(auc_scores))"
   ]
  },
  {
   "cell_type": "markdown",
   "metadata": {},
   "source": [
    "# 5. 제출 파일 생성"
   ]
  },
  {
   "cell_type": "code",
   "execution_count": 34,
   "metadata": {},
   "outputs": [
    {
     "data": {
      "text/html": [
       "<div>\n",
       "<style scoped>\n",
       "    .dataframe tbody tr th:only-of-type {\n",
       "        vertical-align: middle;\n",
       "    }\n",
       "\n",
       "    .dataframe tbody tr th {\n",
       "        vertical-align: top;\n",
       "    }\n",
       "\n",
       "    .dataframe thead th {\n",
       "        text-align: right;\n",
       "    }\n",
       "</style>\n",
       "<table border=\"1\" class=\"dataframe\">\n",
       "  <thead>\n",
       "    <tr style=\"text-align: right;\">\n",
       "      <th></th>\n",
       "      <th>user_id</th>\n",
       "      <th>time</th>\n",
       "      <th>model_nm</th>\n",
       "      <th>fwver</th>\n",
       "      <th>errtype</th>\n",
       "      <th>errcode</th>\n",
       "    </tr>\n",
       "  </thead>\n",
       "  <tbody>\n",
       "    <tr>\n",
       "      <th>0</th>\n",
       "      <td>30000</td>\n",
       "      <td>20201101030227</td>\n",
       "      <td>model_1</td>\n",
       "      <td>04.16.3553</td>\n",
       "      <td>31</td>\n",
       "      <td>1</td>\n",
       "    </tr>\n",
       "    <tr>\n",
       "      <th>1</th>\n",
       "      <td>30000</td>\n",
       "      <td>20201101030227</td>\n",
       "      <td>model_1</td>\n",
       "      <td>04.16.3553</td>\n",
       "      <td>33</td>\n",
       "      <td>2</td>\n",
       "    </tr>\n",
       "    <tr>\n",
       "      <th>2</th>\n",
       "      <td>30000</td>\n",
       "      <td>20201101030228</td>\n",
       "      <td>model_1</td>\n",
       "      <td>04.16.3553</td>\n",
       "      <td>15</td>\n",
       "      <td>1</td>\n",
       "    </tr>\n",
       "    <tr>\n",
       "      <th>3</th>\n",
       "      <td>30000</td>\n",
       "      <td>20201101030256</td>\n",
       "      <td>model_1</td>\n",
       "      <td>04.16.3553</td>\n",
       "      <td>22</td>\n",
       "      <td>1</td>\n",
       "    </tr>\n",
       "    <tr>\n",
       "      <th>4</th>\n",
       "      <td>30000</td>\n",
       "      <td>20201101030300</td>\n",
       "      <td>model_1</td>\n",
       "      <td>04.16.3553</td>\n",
       "      <td>11</td>\n",
       "      <td>1</td>\n",
       "    </tr>\n",
       "  </tbody>\n",
       "</table>\n",
       "</div>"
      ],
      "text/plain": [
       "   user_id            time model_nm       fwver  errtype errcode\n",
       "0    30000  20201101030227  model_1  04.16.3553       31       1\n",
       "1    30000  20201101030227  model_1  04.16.3553       33       2\n",
       "2    30000  20201101030228  model_1  04.16.3553       15       1\n",
       "3    30000  20201101030256  model_1  04.16.3553       22       1\n",
       "4    30000  20201101030300  model_1  04.16.3553       11       1"
      ]
     },
     "metadata": {},
     "output_type": "display_data"
    }
   ],
   "source": [
    "test_err  = pd.read_csv(PATH+'test_err_data.csv')\n",
    "display(test_err.head())"
   ]
  },
  {
   "cell_type": "code",
   "execution_count": 36,
   "metadata": {},
   "outputs": [],
   "source": [
    "# 데이터 설명을 확인하면\n",
    "# test 데이터는 ueser_id가 30000부터 44998까지 총 14999개가 존재.\n",
    "test_user_id_max = 44998\n",
    "test_user_id_min = 30000\n",
    "test_user_number = 14999"
   ]
  },
  {
   "cell_type": "code",
   "execution_count": 37,
   "metadata": {},
   "outputs": [
    {
     "name": "stderr",
     "output_type": "stream",
     "text": [
      "100%|██████████████████████████████████████████████████████████████████| 16532648/16532648 [00:48<00:00, 339734.26it/s]"
     ]
    },
    {
     "name": "stdout",
     "output_type": "stream",
     "text": [
      "(14999, 42)\n"
     ]
    },
    {
     "name": "stderr",
     "output_type": "stream",
     "text": [
      "\n"
     ]
    }
   ],
   "source": [
    "id_error = test_err[['user_id','errtype']].values\n",
    "test_x = np.zeros((test_user_number,42))\n",
    "for person_idx, err in tqdm(id_error):\n",
    "    # person_idx - test_user_id_min 위치에 person_idx, errtype에 해당하는 error값을 +1\n",
    "    test_x[person_idx - test_user_id_min,err - 1] += 1\n",
    "test_x = test_x.reshape(test_x.shape[0],-1)\n",
    "print(test_x.shape)"
   ]
  },
  {
   "cell_type": "code",
   "execution_count": 14,
   "metadata": {},
   "outputs": [],
   "source": [
    "# 예측\n",
    "pred_y_list = []\n",
    "for model in models:\n",
    "    pred_y = model.predict(test_x)\n",
    "    pred_y_list.append(pred_y.reshape(-1,1))\n",
    "    \n",
    "pred_ensemble = np.mean(pred_y_list, axis = 0)"
   ]
  },
  {
   "cell_type": "code",
   "execution_count": 15,
   "metadata": {},
   "outputs": [
    {
     "data": {
      "text/plain": [
       "array([[0.57755635],\n",
       "       [0.26089892],\n",
       "       [0.31557557],\n",
       "       ...,\n",
       "       [0.38301962],\n",
       "       [0.61611595],\n",
       "       [0.34348301]])"
      ]
     },
     "execution_count": 15,
     "metadata": {},
     "output_type": "execute_result"
    }
   ],
   "source": [
    "pred_ensemble"
   ]
  },
  {
   "cell_type": "code",
   "execution_count": 16,
   "metadata": {},
   "outputs": [],
   "source": [
    "sample_submssion = pd.read_csv(PATH+'sample_submission.csv')"
   ]
  },
  {
   "cell_type": "code",
   "execution_count": 17,
   "metadata": {},
   "outputs": [],
   "source": [
    "sample_submssion['problem'] = pred_ensemble.reshape(-1)"
   ]
  },
  {
   "cell_type": "code",
   "execution_count": 18,
   "metadata": {
    "scrolled": true
   },
   "outputs": [
    {
     "data": {
      "text/html": [
       "<div>\n",
       "<style scoped>\n",
       "    .dataframe tbody tr th:only-of-type {\n",
       "        vertical-align: middle;\n",
       "    }\n",
       "\n",
       "    .dataframe tbody tr th {\n",
       "        vertical-align: top;\n",
       "    }\n",
       "\n",
       "    .dataframe thead th {\n",
       "        text-align: right;\n",
       "    }\n",
       "</style>\n",
       "<table border=\"1\" class=\"dataframe\">\n",
       "  <thead>\n",
       "    <tr style=\"text-align: right;\">\n",
       "      <th></th>\n",
       "      <th>user_id</th>\n",
       "      <th>problem</th>\n",
       "    </tr>\n",
       "  </thead>\n",
       "  <tbody>\n",
       "    <tr>\n",
       "      <th>0</th>\n",
       "      <td>30000</td>\n",
       "      <td>0.577556</td>\n",
       "    </tr>\n",
       "    <tr>\n",
       "      <th>1</th>\n",
       "      <td>30001</td>\n",
       "      <td>0.260899</td>\n",
       "    </tr>\n",
       "    <tr>\n",
       "      <th>2</th>\n",
       "      <td>30002</td>\n",
       "      <td>0.315576</td>\n",
       "    </tr>\n",
       "    <tr>\n",
       "      <th>3</th>\n",
       "      <td>30003</td>\n",
       "      <td>0.535576</td>\n",
       "    </tr>\n",
       "    <tr>\n",
       "      <th>4</th>\n",
       "      <td>30004</td>\n",
       "      <td>0.454501</td>\n",
       "    </tr>\n",
       "    <tr>\n",
       "      <th>...</th>\n",
       "      <td>...</td>\n",
       "      <td>...</td>\n",
       "    </tr>\n",
       "    <tr>\n",
       "      <th>14994</th>\n",
       "      <td>44994</td>\n",
       "      <td>0.329001</td>\n",
       "    </tr>\n",
       "    <tr>\n",
       "      <th>14995</th>\n",
       "      <td>44995</td>\n",
       "      <td>0.315880</td>\n",
       "    </tr>\n",
       "    <tr>\n",
       "      <th>14996</th>\n",
       "      <td>44996</td>\n",
       "      <td>0.383020</td>\n",
       "    </tr>\n",
       "    <tr>\n",
       "      <th>14997</th>\n",
       "      <td>44997</td>\n",
       "      <td>0.616116</td>\n",
       "    </tr>\n",
       "    <tr>\n",
       "      <th>14998</th>\n",
       "      <td>44998</td>\n",
       "      <td>0.343483</td>\n",
       "    </tr>\n",
       "  </tbody>\n",
       "</table>\n",
       "<p>14999 rows × 2 columns</p>\n",
       "</div>"
      ],
      "text/plain": [
       "       user_id   problem\n",
       "0        30000  0.577556\n",
       "1        30001  0.260899\n",
       "2        30002  0.315576\n",
       "3        30003  0.535576\n",
       "4        30004  0.454501\n",
       "...        ...       ...\n",
       "14994    44994  0.329001\n",
       "14995    44995  0.315880\n",
       "14996    44996  0.383020\n",
       "14997    44997  0.616116\n",
       "14998    44998  0.343483\n",
       "\n",
       "[14999 rows x 2 columns]"
      ]
     },
     "execution_count": 18,
     "metadata": {},
     "output_type": "execute_result"
    }
   ],
   "source": [
    "sample_submssion.to_csv(\"dacon_baseline.csv\", index = False)\n",
    "sample_submssion"
   ]
  }
 ],
 "metadata": {
  "kernelspec": {
   "display_name": "Python 3",
   "language": "python",
   "name": "python3"
  },
  "language_info": {
   "codemirror_mode": {
    "name": "ipython",
    "version": 3
   },
   "file_extension": ".py",
   "mimetype": "text/x-python",
   "name": "python",
   "nbconvert_exporter": "python",
   "pygments_lexer": "ipython3",
   "version": "3.6.12"
  },
  "toc": {
   "base_numbering": 1,
   "nav_menu": {},
   "number_sections": false,
   "sideBar": true,
   "skip_h1_title": false,
   "title_cell": "Table of Contents",
   "title_sidebar": "Contents",
   "toc_cell": false,
   "toc_position": {},
   "toc_section_display": true,
   "toc_window_display": false
  }
 },
 "nbformat": 4,
 "nbformat_minor": 4
}
